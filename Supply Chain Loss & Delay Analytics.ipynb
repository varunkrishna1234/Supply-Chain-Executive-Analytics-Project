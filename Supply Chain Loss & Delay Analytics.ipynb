{
 "cells": [
  {
   "cell_type": "code",
   "execution_count": 1,
   "id": "498d46d7",
   "metadata": {},
   "outputs": [],
   "source": [
    "import pandas as pd\n"
   ]
  },
  {
   "cell_type": "code",
   "execution_count": 2,
   "id": "4d471f8c",
   "metadata": {},
   "outputs": [
    {
     "name": "stderr",
     "output_type": "stream",
     "text": [
      "<>:1: SyntaxWarning: invalid escape sequence '\\p'\n",
      "<>:1: SyntaxWarning: invalid escape sequence '\\p'\n",
      "C:\\Users\\kvaru\\AppData\\Local\\Temp\\ipykernel_13432\\3330938512.py:1: SyntaxWarning: invalid escape sequence '\\p'\n",
      "  df = pd.read_csv(\"C:\\projects\\supply chain delay\\DATA\\supply_chain_delay_dataset.csv\")\n"
     ]
    }
   ],
   "source": [
    "df = pd.read_csv(\"C:\\projects\\supply chain delay\\DATA\\supply_chain_delay_dataset.csv\")\n"
   ]
  },
  {
   "cell_type": "code",
   "execution_count": 3,
   "id": "aa4f0c1d",
   "metadata": {},
   "outputs": [
    {
     "name": "stdout",
     "output_type": "stream",
     "text": [
      "<class 'pandas.core.frame.DataFrame'>\n",
      "RangeIndex: 10000 entries, 0 to 9999\n",
      "Data columns (total 9 columns):\n",
      " #   Column            Non-Null Count  Dtype \n",
      "---  ------            --------------  ----- \n",
      " 0   Order_ID          10000 non-null  int64 \n",
      " 1   Order_Date        10000 non-null  object\n",
      " 2   Delivery_Date     10000 non-null  object\n",
      " 3   Customer_Region   10000 non-null  object\n",
      " 4   Product_Category  10000 non-null  object\n",
      " 5   Vendor_Name       10000 non-null  object\n",
      " 6   Courier           10000 non-null  object\n",
      " 7   Delivery_Status   10000 non-null  object\n",
      " 8   Delay_Days        10000 non-null  int64 \n",
      "dtypes: int64(2), object(7)\n",
      "memory usage: 703.3+ KB\n"
     ]
    },
    {
     "data": {
      "text/html": [
       "<div>\n",
       "<style scoped>\n",
       "    .dataframe tbody tr th:only-of-type {\n",
       "        vertical-align: middle;\n",
       "    }\n",
       "\n",
       "    .dataframe tbody tr th {\n",
       "        vertical-align: top;\n",
       "    }\n",
       "\n",
       "    .dataframe thead th {\n",
       "        text-align: right;\n",
       "    }\n",
       "</style>\n",
       "<table border=\"1\" class=\"dataframe\">\n",
       "  <thead>\n",
       "    <tr style=\"text-align: right;\">\n",
       "      <th></th>\n",
       "      <th>Order_ID</th>\n",
       "      <th>Delay_Days</th>\n",
       "    </tr>\n",
       "  </thead>\n",
       "  <tbody>\n",
       "    <tr>\n",
       "      <th>count</th>\n",
       "      <td>10000.00000</td>\n",
       "      <td>10000.00000</td>\n",
       "    </tr>\n",
       "    <tr>\n",
       "      <th>mean</th>\n",
       "      <td>5000.50000</td>\n",
       "      <td>3.12100</td>\n",
       "    </tr>\n",
       "    <tr>\n",
       "      <th>std</th>\n",
       "      <td>2886.89568</td>\n",
       "      <td>3.34064</td>\n",
       "    </tr>\n",
       "    <tr>\n",
       "      <th>min</th>\n",
       "      <td>1.00000</td>\n",
       "      <td>0.00000</td>\n",
       "    </tr>\n",
       "    <tr>\n",
       "      <th>25%</th>\n",
       "      <td>2500.75000</td>\n",
       "      <td>0.00000</td>\n",
       "    </tr>\n",
       "    <tr>\n",
       "      <th>50%</th>\n",
       "      <td>5000.50000</td>\n",
       "      <td>2.00000</td>\n",
       "    </tr>\n",
       "    <tr>\n",
       "      <th>75%</th>\n",
       "      <td>7500.25000</td>\n",
       "      <td>5.00000</td>\n",
       "    </tr>\n",
       "    <tr>\n",
       "      <th>max</th>\n",
       "      <td>10000.00000</td>\n",
       "      <td>10.00000</td>\n",
       "    </tr>\n",
       "  </tbody>\n",
       "</table>\n",
       "</div>"
      ],
      "text/plain": [
       "          Order_ID   Delay_Days\n",
       "count  10000.00000  10000.00000\n",
       "mean    5000.50000      3.12100\n",
       "std     2886.89568      3.34064\n",
       "min        1.00000      0.00000\n",
       "25%     2500.75000      0.00000\n",
       "50%     5000.50000      2.00000\n",
       "75%     7500.25000      5.00000\n",
       "max    10000.00000     10.00000"
      ]
     },
     "execution_count": 3,
     "metadata": {},
     "output_type": "execute_result"
    }
   ],
   "source": [
    "df.shape      # Shows total rows & columns  \n",
    "df.head()     # Shows first 5 records  \n",
    "df.info()     # Data types & null check  \n",
    "df.describe() # Quick numeric summary  \n"
   ]
  },
  {
   "cell_type": "code",
   "execution_count": 4,
   "id": "6b5f073c",
   "metadata": {},
   "outputs": [
    {
     "data": {
      "text/plain": [
       "Order_ID            0\n",
       "Order_Date          0\n",
       "Delivery_Date       0\n",
       "Customer_Region     0\n",
       "Product_Category    0\n",
       "Vendor_Name         0\n",
       "Courier             0\n",
       "Delivery_Status     0\n",
       "Delay_Days          0\n",
       "dtype: int64"
      ]
     },
     "execution_count": 4,
     "metadata": {},
     "output_type": "execute_result"
    }
   ],
   "source": [
    "df.isnull().sum()\n"
   ]
  },
  {
   "cell_type": "code",
   "execution_count": 5,
   "id": "a43e9987",
   "metadata": {},
   "outputs": [
    {
     "data": {
      "text/plain": [
       "Order_ID             int64\n",
       "Order_Date          object\n",
       "Delivery_Date       object\n",
       "Customer_Region     object\n",
       "Product_Category    object\n",
       "Vendor_Name         object\n",
       "Courier             object\n",
       "Delivery_Status     object\n",
       "Delay_Days           int64\n",
       "dtype: object"
      ]
     },
     "execution_count": 5,
     "metadata": {},
     "output_type": "execute_result"
    }
   ],
   "source": [
    "df.dtypes\n"
   ]
  },
  {
   "cell_type": "code",
   "execution_count": 6,
   "id": "695c4966",
   "metadata": {},
   "outputs": [],
   "source": [
    "df['Order_Date'] = pd.to_datetime(df['Order_Date'])\n",
    "df['Delivery_Date'] = pd.to_datetime(df['Delivery_Date'])\n"
   ]
  },
  {
   "cell_type": "code",
   "execution_count": 7,
   "id": "59ad5c4f",
   "metadata": {},
   "outputs": [
    {
     "data": {
      "text/plain": [
       "Order_ID                     int64\n",
       "Order_Date          datetime64[ns]\n",
       "Delivery_Date       datetime64[ns]\n",
       "Customer_Region             object\n",
       "Product_Category            object\n",
       "Vendor_Name                 object\n",
       "Courier                     object\n",
       "Delivery_Status             object\n",
       "Delay_Days                   int64\n",
       "dtype: object"
      ]
     },
     "execution_count": 7,
     "metadata": {},
     "output_type": "execute_result"
    }
   ],
   "source": [
    "df.dtypes\n"
   ]
  },
  {
   "cell_type": "code",
   "execution_count": 8,
   "id": "7168b6b7",
   "metadata": {},
   "outputs": [],
   "source": [
    "df['Total_Delivery_Days'] = (df['Delivery_Date'] - df['Order_Date']).dt.days\n"
   ]
  },
  {
   "cell_type": "code",
   "execution_count": 9,
   "id": "2d57f125",
   "metadata": {},
   "outputs": [
    {
     "name": "stdout",
     "output_type": "stream",
     "text": [
      "\n",
      "Cleaned Data Sample:\n",
      "    Order_ID Order_Date Delivery_Date Customer_Region Product_Category  \\\n",
      "0         1 2024-06-04    2024-06-07            East         Clothing   \n",
      "1         2 2024-06-04    2024-06-17           North       Appliances   \n",
      "2         3 2024-01-03    2024-01-07           South       Appliances   \n",
      "3         4 2024-06-21    2024-07-04            West         Clothing   \n",
      "4         5 2024-01-25    2024-01-28            West        Furniture   \n",
      "\n",
      "  Vendor_Name   Courier Delivery_Status  Delay_Days  Total_Delivery_Days  \n",
      "0    Vendor_B  Bluedart       Delivered           0                    3  \n",
      "1    Vendor_D     FedEx         Delayed          10                   13  \n",
      "2    Vendor_A  Bluedart         Delayed           1                    4  \n",
      "3    Vendor_D       DHL         Delayed          10                   13  \n",
      "4    Vendor_C  Bluedart       Delivered           0                    3  \n",
      "\n",
      "Summary Stats:\n",
      "           Order_ID                  Order_Date                  Delivery_Date  \\\n",
      "count  10000.00000                       10000                          10000   \n",
      "mean    5000.50000  2024-03-30 15:48:31.680000  2024-04-05 18:42:46.079999744   \n",
      "min        1.00000         2024-01-01 00:00:00            2024-01-04 00:00:00   \n",
      "25%     2500.75000         2024-02-15 00:00:00            2024-02-21 00:00:00   \n",
      "50%     5000.50000         2024-04-01 00:00:00            2024-04-07 00:00:00   \n",
      "75%     7500.25000         2024-05-14 00:00:00            2024-05-21 00:00:00   \n",
      "max    10000.00000         2024-06-28 00:00:00            2024-07-11 00:00:00   \n",
      "std     2886.89568                         NaN                            NaN   \n",
      "\n",
      "        Delay_Days  Total_Delivery_Days  \n",
      "count  10000.00000          10000.00000  \n",
      "mean       3.12100              6.12100  \n",
      "min        0.00000              3.00000  \n",
      "25%        0.00000              3.00000  \n",
      "50%        2.00000              5.00000  \n",
      "75%        5.00000              8.00000  \n",
      "max       10.00000             13.00000  \n",
      "std        3.34064              3.34064  \n"
     ]
    }
   ],
   "source": [
    "print(\"\\nCleaned Data Sample:\\n\", df.head())\n",
    "print(\"\\nSummary Stats:\\n\", df.describe())"
   ]
  },
  {
   "cell_type": "code",
   "execution_count": 10,
   "id": "4dbfc194",
   "metadata": {},
   "outputs": [],
   "source": [
    "import matplotlib.pyplot as plt\n",
    "import seaborn as sns\n"
   ]
  },
  {
   "cell_type": "code",
   "execution_count": 11,
   "id": "f6cbf514",
   "metadata": {},
   "outputs": [
    {
     "name": "stderr",
     "output_type": "stream",
     "text": [
      "C:\\Users\\kvaru\\AppData\\Local\\Temp\\ipykernel_13432\\4143649140.py:2: FutureWarning: \n",
      "\n",
      "Passing `palette` without assigning `hue` is deprecated and will be removed in v0.14.0. Assign the `x` variable to `hue` and set `legend=False` for the same effect.\n",
      "\n",
      "  sns.countplot(x='Delivery_Status', data=df, palette='Set2')\n"
     ]
    },
    {
     "data": {
      "image/png": "[encoded data removed]",
      "text/plain": [
       "<Figure size 640x480 with 1 Axes>"
      ]
     },
     "metadata": {},
     "output_type": "display_data"
    }
   ],
   "source": [
    "# Count of Delayed vs Delivered Orders\n",
    "sns.countplot(x='Delivery_Status', data=df, palette='Set2')\n",
    "plt.title(\"Delivery Status Distribution\")\n",
    "plt.show()\n"
   ]
  },
  {
   "cell_type": "code",
   "execution_count": 12,
   "id": "ccd39a47",
   "metadata": {},
   "outputs": [
    {
     "data": {
      "image/png": "[encoded data removed]",
      "text/plain": [
       "<Figure size 640x480 with 1 Axes>"
      ]
     },
     "metadata": {},
     "output_type": "display_data"
    }
   ],
   "source": [
    "sns.countplot(x='Customer_Region', hue='Delivery_Status', data=df, palette='Set3')\n",
    "plt.title(\"Delivery Status by Region\")\n",
    "plt.show()\n"
   ]
  },
  {
   "cell_type": "code",
   "execution_count": 13,
   "id": "960b9fd7",
   "metadata": {},
   "outputs": [
    {
     "data": {
      "image/png": "[encoded data removed]",
      "text/plain": [
       "<Figure size 640x480 with 1 Axes>"
      ]
     },
     "metadata": {},
     "output_type": "display_data"
    }
   ],
   "source": [
    "sns.countplot(x='Product_Category', hue='Delivery_Status', data=df, palette='Set1')\n",
    "plt.title(\"Delays by Product Category\")\n",
    "plt.show()\n"
   ]
  },
  {
   "cell_type": "code",
   "execution_count": 14,
   "id": "e0301971",
   "metadata": {},
   "outputs": [],
   "source": [
    "# Save Cleaned Data\n",
    "df.to_csv(\"cleaned_supply_chain_data.csv\", index=False)\n"
   ]
  },
  {
   "cell_type": "code",
   "execution_count": null,
   "id": "7d1d1747",
   "metadata": {},
   "outputs": [],
   "source": []
  },
  {
   "cell_type": "code",
   "execution_count": null,
   "id": "a1673a7f",
   "metadata": {},
   "outputs": [],
   "source": []
  },
  {
   "cell_type": "code",
   "execution_count": null,
   "id": "cb995f8d",
   "metadata": {},
   "outputs": [],
   "source": []
  },
  {
   "cell_type": "code",
   "execution_count": null,
   "id": "1bea757d",
   "metadata": {},
   "outputs": [],
   "source": []
  },
  {
   "cell_type": "code",
   "execution_count": null,
   "id": "76f060b0",
   "metadata": {},
   "outputs": [],
   "source": []
  },
  {
   "cell_type": "code",
   "execution_count": null,
   "id": "2e5a0c82",
   "metadata": {},
   "outputs": [],
   "source": []
  },
  {
   "cell_type": "code",
   "execution_count": null,
   "id": "a3397582",
   "metadata": {},
   "outputs": [],
   "source": []
  },
  {
   "cell_type": "code",
   "execution_count": null,
   "id": "d8d1c523",
   "metadata": {},
   "outputs": [],
   "source": []
  }
 ],
 "metadata": {
  "kernelspec": {
   "display_name": "Python 3",
   "language": "python",
   "name": "python3"
  },
  "language_info": {
   "codemirror_mode": {
    "name": "ipython",
    "version": 3
   },
   "file_extension": ".py",
   "mimetype": "text/x-python",
   "name": "python",
   "nbconvert_exporter": "python",
   "pygments_lexer": "ipython3",
   "version": "3.13.2"
  }
 },
 "nbformat": 4,
 "nbformat_minor": 5
}
